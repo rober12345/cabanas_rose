
import pandas as pd
import matplotlib.pyplot as plt

# Load dataset
data = pd.read_csv(r"C:\Users\rober ugalde\Documents\games_sales_data.csv")





# 1. Mean Sales
mean_na_sales = data['NA_Sales'].mean()
mean_global_sales = data['Global_Sales'].mean()
print(f"Mean NA Sales: {mean_na_sales:.2f} million")
print(f"Mean Global Sales: {mean_global_sales:.2f} million")
